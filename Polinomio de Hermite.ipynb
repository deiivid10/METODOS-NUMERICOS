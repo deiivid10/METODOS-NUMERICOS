{
  "nbformat": 4,
  "nbformat_minor": 0,
  "metadata": {
    "colab": {
      "provenance": [],
      "authorship_tag": "ABX9TyNkXSf8+2r5M+E54w8Sewei",
      "include_colab_link": true
    },
    "kernelspec": {
      "name": "python3",
      "display_name": "Python 3"
    },
    "language_info": {
      "name": "python"
    }
  },
  "cells": [
    {
      "cell_type": "markdown",
      "metadata": {
        "id": "view-in-github",
        "colab_type": "text"
      },
      "source": [
        "<a href=\"https://colab.research.google.com/github/deiivid10/METODOS-NUMERICOS/blob/main/Polinomio%20de%20Hermite.ipynb\" target=\"_parent\"><img src=\"https://colab.research.google.com/assets/colab-badge.svg\" alt=\"Open In Colab\"/></a>"
      ]
    },
    {
      "cell_type": "markdown",
      "source": [
        "# Implementación del Método de Interpolacion de Hermite según el Algoritmo 3.3 del libro de Burden."
      ],
      "metadata": {
        "id": "CLmUqLewznWf"
      }
    },
    {
      "cell_type": "code",
      "execution_count": 6,
      "metadata": {
        "id": "NdWxSw35x_0y",
        "colab": {
          "base_uri": "https://localhost:8080/"
        },
        "outputId": "62aeff18-e6fb-48ba-c45a-b71c5830acdc"
      },
      "outputs": [
        {
          "output_type": "stream",
          "name": "stdout",
          "text": [
            "\n",
            "Grado del polinomio de Hermite: 5\n",
            "\n",
            "Desarrollo del polinomio (forma paso a paso):\n",
            "H(x) = 0.6200860 -0.5220232(x - 1.3) -0.0897427(x - 1.3)(x - 1.3) +0.0663656(x - 1.3)(x - 1.3)(x - 1.6) +0.0026667(x - 1.3)(x - 1.3)(x - 1.6)(x - 1.6) -0.0027747(x - 1.3)(x - 1.3)(x - 1.6)(x - 1.6)(x - 1.9)\n",
            "     z       Q_0       Q_1       Q_2       Q_3       Q_4       Q_5\n",
            "0  1.3  0.620086  0.000000  0.000000  0.000000  0.000000  0.000000\n",
            "1  1.3  0.620086 -0.522023  0.000000  0.000000  0.000000  0.000000\n",
            "2  1.6  0.455402 -0.548946 -0.089743  0.000000  0.000000  0.000000\n",
            "3  1.6  0.455402 -0.569896 -0.069833  0.066366  0.000000  0.000000\n",
            "4  1.9  0.281819 -0.578612 -0.029054  0.067966  0.002667  0.000000\n",
            "5  1.9  0.281819 -0.581157 -0.008484  0.068567  0.001002 -0.002775\n"
          ]
        }
      ],
      "source": [
        "import numpy as np\n",
        "import pandas as pd\n",
        "import sympy as sp\n",
        "\n",
        "def hermite_interpolacion(x, f, df):\n",
        "    n = len(x)\n",
        "    z = np.zeros(2 * n)              # Vector de nodos repetidos\n",
        "    Q = np.zeros((2 * n, 2 * n))     # Tabla de diferencias divididas\n",
        "\n",
        "    # Paso 1: Llenar z y la primera columna de Q con f y f'\n",
        "    for i in range(n):\n",
        "        z[2 * i] = x[i]\n",
        "        z[2 * i + 1] = x[i]\n",
        "        Q[2 * i][0] = f[i]\n",
        "        Q[2 * i + 1][0] = f[i]\n",
        "        Q[2 * i + 1][1] = df[i]\n",
        "        if i != 0:\n",
        "            Q[2 * i][1] = (Q[2 * i][0] - Q[2 * i - 1][0]) / (z[2 * i] - z[2 * i - 1])\n",
        "\n",
        "    # Paso 2: Calcular diferencias divididas (diagonal superior)\n",
        "    for j in range(2, 2 * n):\n",
        "        for i in range(j, 2 * n):\n",
        "            Q[i][j] = (Q[i][j - 1] - Q[i - 1][j - 1]) / (z[i] - z[i - j])\n",
        "\n",
        "    # Mostrar la tabla como DataFrame\n",
        "    col_nombres = [f\"Q_{i}\" for i in range(2 * n)]\n",
        "    df_Q = pd.DataFrame(Q, columns=col_nombres)\n",
        "    df_Q.insert(0, 'z', z)\n",
        "\n",
        "    # Construir el polinomio H(x)\n",
        "    x_sym = sp.Symbol('x')\n",
        "    H = Q[0][0]                      # Primer término: constante\n",
        "    producto = 1\n",
        "    desarrollo = f\"{Q[0][0]:.7f}\"\n",
        "\n",
        "    for i in range(1, 2 * n):\n",
        "        producto *= (x_sym - z[i - 1])\n",
        "        H += Q[i][i] * producto\n",
        "\n",
        "        # Mostrar paso a paso el desarrollo\n",
        "        termino = f\"{Q[i][i]:+.7f}\" + ''.join([f\"(x - {z[j]:.1f})\" for j in range(i)])\n",
        "        desarrollo += \" \" + termino\n",
        "\n",
        "    # Mostrar grado del polinomio\n",
        "    grado_polinomio = 2 * n - 1\n",
        "    print(f\"\\nGrado del polinomio de Hermite: {grado_polinomio}\")\n",
        "\n",
        "    # Mostrar desarrollo paso a paso\n",
        "    print(\"\\nDesarrollo del polinomio (forma paso a paso):\")\n",
        "    print(\"H(x) =\", desarrollo)\n",
        "\n",
        "\n",
        "    return df_Q\n",
        "\n",
        "# Ejemplo del libro\n",
        "x = [1.3, 1.6, 1.9]\n",
        "f = [0.6200860, 0.4554022, 0.2818186]\n",
        "df_evaluadas = [-0.5220232, -0.5698959, -0.5811571]\n",
        "\n",
        "# Ejecutar la interpolación\n",
        "tabla = hermite_interpolacion(x, f, df_evaluadas)\n",
        "\n",
        "# Mostrar la tabla redondeada\n",
        "\n",
        "print(tabla.round(6))\n"
      ]
    },
    {
      "cell_type": "markdown",
      "source": [],
      "metadata": {
        "id": "0KGIki938sQj"
      }
    }
  ]
}