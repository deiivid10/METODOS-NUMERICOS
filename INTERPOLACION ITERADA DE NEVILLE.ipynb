{
  "nbformat": 4,
  "nbformat_minor": 0,
  "metadata": {
    "colab": {
      "provenance": [],
      "authorship_tag": "ABX9TyNE/Zla2lgfXGseUU/pbhaz",
      "include_colab_link": true
    },
    "kernelspec": {
      "name": "python3",
      "display_name": "Python 3"
    },
    "language_info": {
      "name": "python"
    }
  },
  "cells": [
    {
      "cell_type": "markdown",
      "metadata": {
        "id": "view-in-github",
        "colab_type": "text"
      },
      "source": [
        "<a href=\"https://colab.research.google.com/github/deiivid10/METODOS-NUMERICOS/blob/main/INTERPOLACION%20ITERADA%20DE%20NEVILLE.ipynb\" target=\"_parent\"><img src=\"https://colab.research.google.com/assets/colab-badge.svg\" alt=\"Open In Colab\"/></a>"
      ]
    },
    {
      "cell_type": "markdown",
      "source": [
        "# ALGORITMO 3.1\n",
        "**INTERPOLACION ITERADA DE NEVILLE**"
      ],
      "metadata": {
        "id": "86ephtimNBGx"
      }
    },
    {
      "cell_type": "code",
      "execution_count": 1,
      "metadata": {
        "colab": {
          "base_uri": "https://localhost:8080/"
        },
        "id": "_xmbminUM2Pw",
        "outputId": "96871244-866b-4f9d-803c-eec242d3faa1"
      },
      "outputs": [
        {
          "output_type": "stream",
          "name": "stdout",
          "text": [
            "\n",
            "Resultado de Neville para x = 1.5: 0.5118199942386831\n",
            "\n",
            "Tabla de Neville:\n",
            "          0         1         2         3        4\n",
            "0  0.765198  0.000000  0.000000  0.000000  0.00000\n",
            "1  0.620086  0.523345  0.000000  0.000000  0.00000\n",
            "2  0.455402  0.510297  0.512471  0.000000  0.00000\n",
            "3  0.281819  0.513263  0.511286  0.511813  0.00000\n",
            "4  0.110362  0.510427  0.513736  0.511830  0.51182\n"
          ]
        }
      ],
      "source": [
        "import pandas as pd\n",
        "\n",
        "# Datos de entrada\n",
        "xi = [1.0, 1.3, 1.6, 1.9, 2.2]\n",
        "fxi = [0.7651977, 0.6200860, 0.4554022, 0.2818186, 0.1103623]\n",
        "\n",
        "# Algoritmo de Neville para evaluar P(x) en un punto dado\n",
        "def interpolacion_neville(xi, fxi, x):\n",
        "    n = len(xi)\n",
        "    Q = [[0.0 for _ in range(n)] for _ in range(n)]\n",
        "\n",
        "    # Columna Q[i][0] = f(xi)\n",
        "    for i in range(n):\n",
        "        Q[i][0] = fxi[i]\n",
        "\n",
        "    # Usar la fórmula iterativa de Neville\n",
        "    for i in range(1, n):\n",
        "        for j in range(1, i + 1):\n",
        "            Q[i][j] = ((x - xi[i - j]) * Q[i][j - 1] -\n",
        "                       (x - xi[i]) * Q[i - 1][j - 1]) / (xi[i] - xi[i - j])\n",
        "\n",
        "    # Convertir a DataFrame\n",
        "    df_neville = pd.DataFrame(Q).round(7)\n",
        "    return Q[n - 1][n - 1], df_neville\n",
        "\n",
        "# Evaluar en un punto, por ejemplo x = 1.5\n",
        "x_eval = 1.5\n",
        "resultado_neville, tabla_neville = interpolacion_neville(xi, fxi, x_eval)\n",
        "\n",
        "print(f\"\\nResultado de Neville para x = {x_eval}: {resultado_neville}\\n\")\n",
        "print(\"Tabla de Neville:\")\n",
        "print(tabla_neville)"
      ]
    }
  ]
}