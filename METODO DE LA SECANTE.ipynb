{
  "nbformat": 4,
  "nbformat_minor": 0,
  "metadata": {
    "colab": {
      "provenance": [],
      "authorship_tag": "ABX9TyPRBd+zjgHPUM1Y+AkvgAMF",
      "include_colab_link": true
    },
    "kernelspec": {
      "name": "python3",
      "display_name": "Python 3"
    },
    "language_info": {
      "name": "python"
    }
  },
  "cells": [
    {
      "cell_type": "markdown",
      "metadata": {
        "id": "view-in-github",
        "colab_type": "text"
      },
      "source": [
        "<a href=\"https://colab.research.google.com/github/deiivid10/METODOS-NUMERICOS/blob/main/METODO%20DE%20LA%20SECANTE.ipynb\" target=\"_parent\"><img src=\"https://colab.research.google.com/assets/colab-badge.svg\" alt=\"Open In Colab\"/></a>"
      ]
    },
    {
      "cell_type": "markdown",
      "source": [
        "# Implementación del método de la secante para encontrar raíces de f(x) = 0.\n"
      ],
      "metadata": {
        "id": "4yn2Gzz3y9tr"
      }
    },
    {
      "cell_type": "code",
      "execution_count": 1,
      "metadata": {
        "id": "tdFllSfssvDH"
      },
      "outputs": [],
      "source": [
        "\n",
        "def f(x):\n",
        "    return x**3 - x - 2"
      ]
    },
    {
      "cell_type": "markdown",
      "source": [
        "#Codigo para definir la funcion ⬆"
      ],
      "metadata": {
        "id": "u6C5o8y4yaEL"
      }
    },
    {
      "cell_type": "code",
      "source": [
        "def secante_metodo(f, p0, p1, TOL, N0):\n",
        "    q0 = f(p0)\n",
        "    q1 = f(p1)\n",
        "    table = []\n",
        "\n",
        "    for i in range(2, N0+1):\n",
        "        if q1 - q0 == 0:\n",
        "            print(\"Error: División por cero en el cálculo.\")\n",
        "            return\n",
        "\n",
        "        p = p1 - q1 * (p1 - p0) / (q1 - q0)\n",
        "        error = abs(p - p1)\n",
        "        table.append([i-1, p0, p1, p, error])\n",
        "\n",
        "        if error < TOL:\n",
        "            print(\"\\nEl procedimiento fue exitoso.\")\n",
        "\n",
        "            print(tabulate(table, headers=[\"Iteración\", \"p0\", \"p1\", \"p\", \"Error\"], tablefmt=\"grid\"))\n",
        "            print(f\"\\nSolución encontrada: p = {p} con tolerancia {TOL}\")\n",
        "            return p\n",
        "\n",
        "\n",
        "        p0, q0 = p1, q1\n",
        "        p1, q1 = p, f(p)\n",
        "\n",
        "    print(tabulate(table, headers=[\"Iteración\", \"p0\", \"p1\", \"p\", \"Error\"], tablefmt=\"grid\"))\n",
        "    print(f\"\\nEl método falló después de {N0} iteraciones.\")\n",
        "    return None"
      ],
      "metadata": {
        "id": "FjvgXZYWyafj"
      },
      "execution_count": 2,
      "outputs": []
    },
    {
      "cell_type": "markdown",
      "source": [
        "# Aqui se implementa el Metodo de la secante ⬆\n",
        "table = [ ] **# Lista para almacenar los resultados y mostrarlos en formato de tabla** ⬆\n",
        "\n",
        "p = p1 - q1 * (p1 - p0) / (q1 - q0) ***# Fórmula del método de la secante***⬆\n",
        "\n",
        "if error < TOL: **# Criterio de parada**⬆"
      ],
      "metadata": {
        "id": "rORIABEoynuL"
      }
    },
    {
      "cell_type": "code",
      "source": [
        "p0 = 1.0\n",
        "p1 = 2.0\n",
        "TOL = 1e-5\n",
        "N0 = 20\n"
      ],
      "metadata": {
        "id": "BBhoG3ujyoj0"
      },
      "execution_count": 3,
      "outputs": []
    },
    {
      "cell_type": "markdown",
      "source": [
        "# Parámetros de entrada ⬆\n",
        "    p0 = 1.0 # Aproximación inicial 1\n",
        "    p1 = 2.0 # Aproximación inicial 2\n",
        "    TOL = 1e-5 # Tolerancia\n",
        "    N0 = 20 # Número máximo de iteraciones"
      ],
      "metadata": {
        "id": "zXh7D5lUznMl"
      }
    },
    {
      "cell_type": "code",
      "source": [
        "secante_metodo(f, p0, p1, TOL, N0)"
      ],
      "metadata": {
        "colab": {
          "base_uri": "https://localhost:8080/"
        },
        "id": "hp99OnHLywJE",
        "outputId": "b876e560-6557-4633-f719-02c16961646a"
      },
      "execution_count": 4,
      "outputs": [
        {
          "output_type": "stream",
          "name": "stdout",
          "text": [
            "\n",
            "El procedimiento fue exitoso.\n",
            "+-------------+---------+---------+---------+-------------+\n",
            "|   Iteración |      p0 |      p1 |       p |       Error |\n",
            "+=============+=========+=========+=========+=============+\n",
            "|           1 | 1       | 2       | 1.33333 | 0.666667    |\n",
            "+-------------+---------+---------+---------+-------------+\n",
            "|           2 | 2       | 1.33333 | 1.46269 | 0.129353    |\n",
            "+-------------+---------+---------+---------+-------------+\n",
            "|           3 | 1.33333 | 1.46269 | 1.53117 | 0.0684829   |\n",
            "+-------------+---------+---------+---------+-------------+\n",
            "|           4 | 1.46269 | 1.53117 | 1.52093 | 0.010243    |\n",
            "+-------------+---------+---------+---------+-------------+\n",
            "|           5 | 1.53117 | 1.52093 | 1.52138 | 0.000449896 |\n",
            "+-------------+---------+---------+---------+-------------+\n",
            "|           6 | 1.52093 | 1.52138 | 1.52138 | 3.39132e-06 |\n",
            "+-------------+---------+---------+---------+-------------+\n",
            "\n",
            "Solución encontrada: p = 1.5213797079848717 con tolerancia 1e-05\n"
          ]
        },
        {
          "output_type": "execute_result",
          "data": {
            "text/plain": [
              "1.5213797079848717"
            ]
          },
          "metadata": {},
          "execution_count": 4
        }
      ]
    },
    {
      "cell_type": "markdown",
      "source": [
        "#LLAMAR AL METODO DE LA SECANTE ⬆\n",
        "DONDE ME MOSTRARA LA SOLUCION ENCONTRADA Y LA TOLERANCIA"
      ],
      "metadata": {
        "id": "COTdcb_ZzvtL"
      }
    }
  ]
}