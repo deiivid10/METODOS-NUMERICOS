{
  "nbformat": 4,
  "nbformat_minor": 0,
  "metadata": {
    "colab": {
      "provenance": [],
      "authorship_tag": "ABX9TyNpJ8P+hOfnAi9RfpEQUMCb",
      "include_colab_link": true
    },
    "kernelspec": {
      "name": "python3",
      "display_name": "Python 3"
    },
    "language_info": {
      "name": "python"
    }
  },
  "cells": [
    {
      "cell_type": "markdown",
      "metadata": {
        "id": "view-in-github",
        "colab_type": "text"
      },
      "source": [
        "<a href=\"https://colab.research.google.com/github/deiivid10/METODOS-NUMERICOS/blob/main/POLINOMIOS%20DE%20HERMITE.ipynb\" target=\"_parent\"><img src=\"https://colab.research.google.com/assets/colab-badge.svg\" alt=\"Open In Colab\"/></a>"
      ]
    },
    {
      "cell_type": "markdown",
      "source": [
        "# Implementación del Método de Interpolacion de Hermite según el Algoritmo 3.3 del libro de Burden."
      ],
      "metadata": {
        "id": "CLmUqLewznWf"
      }
    },
    {
      "cell_type": "code",
      "execution_count": null,
      "metadata": {
        "id": "NdWxSw35x_0y",
        "colab": {
          "base_uri": "https://localhost:8080/"
        },
        "outputId": "bb9a4912-3500-4d98-a3e3-900189af4cf9"
      },
      "outputs": [
        {
          "output_type": "stream",
          "name": "stdout",
          "text": [
            "     z       Q_0       Q_1       Q_2       Q_3       Q_4       Q_5\n",
            "0  1.3  0.620086  0.000000  0.000000  0.000000  0.000000  0.000000\n",
            "1  1.3  0.620086 -0.522023  0.000000  0.000000  0.000000  0.000000\n",
            "2  1.6  0.455402 -0.548946 -0.089743  0.000000  0.000000  0.000000\n",
            "3  1.6  0.455402 -0.569896 -0.069833  0.066366  0.000000  0.000000\n",
            "4  1.9  0.281819 -0.578612 -0.029054  0.067966  0.002667  0.000000\n",
            "5  1.9  0.281819 -0.581157 -0.008484  0.068567  0.001002 -0.002775\n"
          ]
        }
      ],
      "source": [
        "import numpy as np\n",
        "import pandas as pd\n",
        "\n",
        "def hermite_interpolacion(x, f, df):\n",
        "    n = len(x)\n",
        "    z = np.zeros(2 * n)\n",
        "    Q = np.zeros((2 * n, 2 * n))\n",
        "\n",
        "# Paso 1 y 2: llenado de z y Q con valores de f y f'\n",
        "    for i in range(n):\n",
        "        z[2 * i] = x[i]\n",
        "        z[2 * i + 1] = x[i]\n",
        "        Q[2 * i][0] = f[i]\n",
        "        Q[2 * i + 1][0] = f[i]\n",
        "        Q[2 * i + 1][1] = df[i]\n",
        "        if i != 0:\n",
        "            Q[2 * i][1] = (Q[2 * i][0] - Q[2 * i - 1][0]) / (z[2 * i] - z[2 * i - 1])\n",
        "\n",
        "# Paso 3: cálculo de diferencias divididas\n",
        "    for j in range(2, 2 * n):\n",
        "        for i in range(j, 2 * n):\n",
        "            Q[i][j] = (Q[i][j - 1] - Q[i - 1][j - 1]) / (z[i] - z[i - j])\n",
        "\n",
        "# Mostrar la tabla como DataFrame\n",
        "    col_nombres = [f\"Q_{i}\" for i in range(2 * n)]\n",
        "    df_Q = pd.DataFrame(Q, columns=col_nombres)\n",
        "    df_Q.insert(0, 'z', z)\n",
        "\n",
        "    return df_Q\n",
        "\n",
        "# Ejemplo 1 del libro\n",
        "x = [1.3, 1.6, 1.9]\n",
        "f = [0.6200860, 0.4554022, 0.2818186]\n",
        "df_evaluadas = [-0.5220232, -0.5698959, -0.5811571]\n",
        "\n",
        "tabla = hermite_interpolacion(x, f, df_evaluadas)\n",
        "print(tabla.round(6))\n",
        "\n",
        "\n",
        "\n"
      ]
    },
    {
      "cell_type": "markdown",
      "source": [],
      "metadata": {
        "id": "0KGIki938sQj"
      }
    }
  ]
}