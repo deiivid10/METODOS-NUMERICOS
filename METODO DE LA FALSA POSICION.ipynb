{
  "nbformat": 4,
  "nbformat_minor": 0,
  "metadata": {
    "colab": {
      "provenance": [],
      "authorship_tag": "ABX9TyOvrVjB21hSjwEPDakNUF9N",
      "include_colab_link": true
    },
    "kernelspec": {
      "name": "python3",
      "display_name": "Python 3"
    },
    "language_info": {
      "name": "python"
    }
  },
  "cells": [
    {
      "cell_type": "markdown",
      "metadata": {
        "id": "view-in-github",
        "colab_type": "text"
      },
      "source": [
        "<a href=\"https://colab.research.google.com/github/deiivid10/METODOS-NUMERICOS/blob/main/METODO%20DE%20LA%20FALSA%20POSICION.ipynb\" target=\"_parent\"><img src=\"https://colab.research.google.com/assets/colab-badge.svg\" alt=\"Open In Colab\"/></a>"
      ]
    },
    {
      "cell_type": "code",
      "execution_count": 86,
      "metadata": {
        "id": "UmJGdFKM3LSA",
        "colab": {
          "base_uri": "https://localhost:8080/"
        },
        "outputId": "9819d7ff-72ca-4e72-8f2b-027198f6c51d"
      },
      "outputs": [
        {
          "output_type": "stream",
          "name": "stdout",
          "text": [
            "+-------------+----------+--------------+-------------+\n",
            "|   Iteración |      p_n |       f(p_n) |       Error |\n",
            "+=============+==========+==============+=============+\n",
            "|           1 | 0.736384 | -0.00451772  | 0.049014    |\n",
            "+-------------+----------+--------------+-------------+\n",
            "|           2 | 0.739058 | -4.51772e-05 | 0.002674    |\n",
            "+-------------+----------+--------------+-------------+\n",
            "|           3 | 0.739085 | -4.50872e-07 | 2.67246e-05 |\n",
            "+-------------+----------+--------------+-------------+\n",
            "|           4 | 0.739085 | -4.49964e-09 | 2.66712e-07 |\n",
            "+-------------+----------+--------------+-------------+\n"
          ]
        }
      ],
      "source": [
        "import math\n",
        "from tabulate import tabulate\n",
        "\n",
        "def falsa_posicion(f, p0, p1, tol, N0):\n",
        "\n",
        "    q0 = f(p0)\n",
        "    q1 = f(p1)\n",
        "    #1\n",
        "    if q0 * q1 > 0:\n",
        "        print(\"Los valores iniciales no son adecuados, f(p0) y f(p1) deben tener signos opuestos.\")\n",
        "        return\n",
        "    #2\n",
        "    resultados = []\n",
        "\n",
        "    for i in range(1, N0 + 1):\n",
        "        #3\n",
        "        p = p1 - q1 * (p1 - p0) / (q1 - q0)\n",
        "        q = f(p)\n",
        "\n",
        "        #4\n",
        "        error = abs(p - p1)\n",
        "\n",
        "        #5\n",
        "        resultados.append([i, p, q, error])\n",
        "\n",
        "        #6\n",
        "        if error < tol:\n",
        "            break\n",
        "\n",
        "        #7\n",
        "        if q * q1 < 0:\n",
        "            p0, q0 = p1, q1\n",
        "\n",
        "        p1, q1 = p, q\n",
        "\n",
        "    #8\n",
        "    print(tabulate(resultados, headers=[\"Iteración\", \"p_n\", \"f(p_n)\", \"Error\"], tablefmt=\"grid\"))\n",
        "\n",
        "#9\n",
        "def f(x):\n",
        "    return x - math.cos(x)\n",
        "\n",
        "#10\n",
        "p0 = 0.5\n",
        "p1 = math.pi / 4\n",
        "tol = 1e-6\n",
        "N0 = 10\n",
        "\n",
        "#11\n",
        "falsa_posicion(f, p0, p1, tol, N0)\n",
        "\n",
        "\n",
        "\n"
      ]
    },
    {
      "cell_type": "markdown",
      "source": [
        " # Implementación del método de posición falsa para encontrar una raíz de la función\n",
        "\n",
        "    Parámetros:\n",
        "    f    : función a evaluar\n",
        "    p0   : primer punto inicial\n",
        "    p1   : segundo punto inicial\n",
        "    tol  : tolerancia para el error\n",
        "    N0   : número máximo de iteraciones\n",
        "\n",
        "Salida:\n",
        "Imprime una tabla con los valores en cada iteración, incluyendo el error estimado.\n",
        "  \n",
        "# Verificamos que los puntos iniciales sean válidos (f(p0) y f(p1) deben tener signos opuestos) ⬆ #1\n",
        " # Lista para almacenar los resultados en cada iteración ⬆ #2\n",
        "  # Calcular p utilizando la fórmula de la posición falsa ⬆ #3\n",
        "  # Calcular error estimado ⬆ #4\n",
        "  # Guardar valores en la lista ⬆ #5\n",
        "  # Comprobar criterio de parada ⬆ #6\n",
        "  # Actualizar valores para la siguiente iteración ⬆ #7\n",
        "  # Imprimir tabla de resultados  ⬆ #8\n",
        "  # Definir la función f(x) = x - cos(x) ⬆ #9\n",
        "# Parámetros iniciales ⬆ #10\n",
        "# Llamada a la función ⬆ #11"
      ],
      "metadata": {
        "id": "ZwiYDUKcAQuV"
      }
    }
  ]
}