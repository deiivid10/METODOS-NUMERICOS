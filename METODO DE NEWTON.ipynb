{
  "nbformat": 4,
  "nbformat_minor": 0,
  "metadata": {
    "colab": {
      "provenance": [],
      "authorship_tag": "ABX9TyM+LQSfk7E5qHSpOQNixWI6",
      "include_colab_link": true
    },
    "kernelspec": {
      "name": "python3",
      "display_name": "Python 3"
    },
    "language_info": {
      "name": "python"
    }
  },
  "cells": [
    {
      "cell_type": "markdown",
      "metadata": {
        "id": "view-in-github",
        "colab_type": "text"
      },
      "source": [
        "<a href=\"https://colab.research.google.com/github/deiivid10/METODOS-NUMERICOS/blob/main/METODO%20DE%20NEWTON.ipynb\" target=\"_parent\"><img src=\"https://colab.research.google.com/assets/colab-badge.svg\" alt=\"Open In Colab\"/></a>"
      ]
    },
    {
      "cell_type": "code",
      "execution_count": 5,
      "metadata": {
        "id": "gWAost7hejc9",
        "colab": {
          "base_uri": "https://localhost:8080/"
        },
        "outputId": "db16e2d8-cc2d-4848-8c42-37e9cf80133b"
      },
      "outputs": [
        {
          "output_type": "stream",
          "name": "stdout",
          "text": [
            "\n",
            "El procedimiento fue exitoso. Resultado:\n",
            "  Iteración        p0         p     Error\n",
            "-----------  --------  --------  --------\n",
            "          0  0.000000  1.000000  1.000000\n",
            "          1  1.000000  0.750364  0.249636\n",
            "          2  0.750364  0.739113  0.011251\n",
            "          3  0.739113  0.739085  0.000028\n",
            "          4  0.739085  0.739085  0.000000\n"
          ]
        }
      ],
      "source": [
        "import numpy as np\n",
        "import matplotlib.pyplot as plt\n",
        "from tabulate import tabulate\n",
        "\n",
        "def f(x):\n",
        "\n",
        "    return np.cos(x) - x\n",
        "\n",
        "def df(x):\n",
        "\n",
        "    return -np.sin(x) - 1\n",
        "\n",
        "def newton_method(p0, tol, N0):\n",
        "\n",
        "    i = 0\n",
        "    table = []\n",
        "\n",
        "    while i <= N0:\n",
        "        p = p0 - f(p0)/df(p0)\n",
        "        error = abs(p - p0)\n",
        "\n",
        "        # Guardar los valores en la tabla\n",
        "        table.append([i, p0, p, error])\n",
        "\n",
        "        if error < tol:\n",
        "            print(\"\\nEl procedimiento fue exitoso. Resultado:\")\n",
        "            print(tabulate(table, headers=[\"Iteración\", \"p0\", \"p\", \"Error\"], floatfmt=\".6f\"))\n",
        "            return p\n",
        "\n",
        "        p0 = p\n",
        "        i += 1\n",
        "\n",
        "    print(\"\\nEl método falló después de\", N0, \"iteraciones.\")\n",
        "    print(tabulate(table, headers=[\"Iteración\", \"p0\", \"p\", \"Error\"], floatfmt=\".6f\"))\n",
        "    return None\n",
        "\n",
        "\n",
        "p0 = 0.0\n",
        "TOL = 1e-6\n",
        "N0 = 20\n",
        "\n",
        "\n",
        "resultado = newton_method(p0, TOL, N0)\n"
      ]
    },
    {
      "cell_type": "markdown",
      "source": [
        "# Implementación del Método de Newton según el Algoritmo 2.3 del libro de Burden.⬆\n",
        "    Parámetros:⬆\n",
        "    p0 -- Aproximación inicial\n",
        "    tol -- Tolerancia para el criterio de convergencia\n",
        "    N0 -- Número máximo de iteraciones\n",
        "\n",
        "    Función dada: f(x) = cos(x) - x\n",
        "    Derivada de f(x): f'(x) = -sin(x) - 1\n",
        "\n",
        "table = [ ] **# Lista para almacenar los resultados y mostrarlos en formato de tabla** ⬆\n",
        "\n",
        "p = p0 - f(p0)/df(p0) **# Cálculo de la siguiente aproximación** ⬆\n",
        "\n",
        "error = abs(p - p0) **# Error estimado** ⬆\n",
        "\n",
        "p0 = p **# Actualización de p0** ⬆\n",
        "\n",
        "i += 1 **# Incremento del contador** ⬆\n",
        "\n",
        "# Parámetros iniciales ⬆\n",
        "    p0 = 0.0 # Aproximación inicial\n",
        "    TOL = 1e-6 # Tolerancia\n",
        "    N0 = 20 # Máximo número de iteraciones\n",
        "\n"
      ],
      "metadata": {
        "id": "z78SoiZaklG8"
      }
    }
  ]
}