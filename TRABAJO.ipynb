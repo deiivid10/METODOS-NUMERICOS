{
  "nbformat": 4,
  "nbformat_minor": 0,
  "metadata": {
    "colab": {
      "provenance": [],
      "authorship_tag": "ABX9TyORqxHkJycYMvy0dG+x4Hj9",
      "include_colab_link": true
    },
    "kernelspec": {
      "name": "python3",
      "display_name": "Python 3"
    },
    "language_info": {
      "name": "python"
    }
  },
  "cells": [
    {
      "cell_type": "markdown",
      "metadata": {
        "id": "view-in-github",
        "colab_type": "text"
      },
      "source": [
        "<a href=\"https://colab.research.google.com/github/deiivid10/METODOS-NUMERICOS/blob/main/TRABAJO.ipynb\" target=\"_parent\"><img src=\"https://colab.research.google.com/assets/colab-badge.svg\" alt=\"Open In Colab\"/></a>"
      ]
    },
    {
      "cell_type": "code",
      "execution_count": null,
      "metadata": {
        "id": "xfEKzpvSKhDu",
        "colab": {
          "base_uri": "https://localhost:8080/"
        },
        "outputId": "260b72c2-bf44-4c5c-da54-7c2b901e3761"
      },
      "outputs": [
        {
          "output_type": "stream",
          "name": "stdout",
          "text": [
            "26 En sistema binario es: 0b11010\n",
            "26 En sistema octadecimal es: 0o32\n",
            "26 En sistema hexadecimal es: 0x1a\n",
            "Ingrese un numero decimal: 26\n",
            "El numero 26 en binario es: 11010\n"
          ]
        }
      ],
      "source": [
        "num = 26\n",
        "print(num,\"En sistema binario es:\",bin(num));\n",
        "print(num,\"En sistema octadecimal es:\",oct(num));\n",
        "print(num,\"En sistema hexadecimal es:\",hex(num));\n",
        "\n",
        "#FUNCION QUE CONVIERTE UN NUMERO ENTERO DECIMAL A BINARIO\n",
        "\n",
        "def decimal_a_binario(n):\n",
        "    if n == 0:\n",
        "        return \"0\"\n",
        "    binario = \"\"\n",
        "    while n > 0:\n",
        "        residuo = n % 2\n",
        "        binario = str(residuo) + binario\n",
        "        n //= 2\n",
        "    return binario\n",
        "\n",
        "numero = int(input(\"Ingrese un numero decimal: \"))\n",
        "print(f\"El numero {numero} en binario es: {decimal_a_binario(numero)}\");\n",
        "\n"
      ]
    },
    {
      "cell_type": "markdown",
      "source": [
        "<font color= blue>**\"SISTEMAS NUMERICOS\"**</front>\n",
        "\n",
        "***DECIMAL A BINARIO***\n",
        "*   Se usa un bucle while para dividir el numero por 2 sucesivamente\n",
        "*   Se almacena el residuo en una cadena (al inicio para llevar todo en orden)\n",
        "*   Se repite hasta que el numero sea 0\n",
        "*   Se retorna el numero binario en forma de cadena\n"
      ],
      "metadata": {
        "id": "AtWHu6qRshH8"
      }
    },
    {
      "cell_type": "code",
      "source": [
        "def decimal_a_binario(decimal, precision=10):\n",
        "\n",
        "    binario = \"0.\"\n",
        "    while decimal > 0 and len(binario) <= precision + 2:\n",
        "        decimal *= 2\n",
        "        if decimal >= 1:\n",
        "            binario += \"1\"\n",
        "            decimal -= 1\n",
        "        else:\n",
        "            binario += \"0\"\n",
        "    return binario\n",
        "\n",
        "# Ejemplo: Convertir 0.125\n",
        "decimal_numero = 0.125\n",
        "rep_binario = decimal_a_binario(decimal_numero)\n",
        "print(f\"El número {decimal_numero} en binario es: {rep_binario}\")"
      ],
      "metadata": {
        "id": "QMR79vb3fs5a",
        "colab": {
          "base_uri": "https://localhost:8080/"
        },
        "outputId": "7a39a6ec-08aa-48fe-b4e4-840269899cdf"
      },
      "execution_count": 3,
      "outputs": [
        {
          "output_type": "stream",
          "name": "stdout",
          "text": [
            "El número 0.125 en binario es: 0.001\n"
          ]
        }
      ]
    },
    {
      "cell_type": "markdown",
      "source": [
        "<font color= blue>**\"COMO CONVERTIR 0.125 A BINARIO PARTE ENTERA\"**</front>\n",
        "\n",
        "*   Multiplicar por 2: Se multiplica la parte fraccionaria por 2\n",
        "*   Determinar el bit: Si el resultado es mayor o igual a 1, se añade 1 al binario y se resta 1 del resultado; si no, se añade 0\n",
        "*   Repetir hasta alcanzar la precisión deseada: Se continúa este proceso hasta obtener la cantidad de bits deseada o que el resultado sea 0.\n",
        "\n",
        "\n",
        "\n",
        "\n",
        "\n",
        "\n",
        "\n",
        "\n"
      ],
      "metadata": {
        "id": "LoCHVw7jsfY5"
      }
    },
    {
      "cell_type": "code",
      "source": [
        "\n",
        "def decimal_a_octal(n):\n",
        "    if n == 0:\n",
        "        return \"0\"\n",
        "\n",
        "    octal = \"\"\n",
        "    while n > 0:\n",
        "        octal = str(n % 8) + octal\n",
        "        n //= 8\n",
        "\n",
        "    return octal\n",
        "\n",
        "numero_str = input(\"Ingrese un número entero decimal: \")\n",
        "\n",
        "numero = int(numero_str)\n",
        "print(\"El número en octal es:\", decimal_a_octal(numero))\n",
        "\n"
      ],
      "metadata": {
        "colab": {
          "base_uri": "https://localhost:8080/"
        },
        "id": "4Tw71RdfdMHK",
        "outputId": "0792a557-fd73-4f51-894e-d68ea21a3973"
      },
      "execution_count": null,
      "outputs": [
        {
          "output_type": "stream",
          "name": "stdout",
          "text": [
            "Ingrese un número entero decimal: 26\n",
            "El número en octal es: 32\n"
          ]
        }
      ]
    },
    {
      "cell_type": "markdown",
      "source": [
        "<font color= blue>**\"DECIMAL A OCTAL\"**</front>\n",
        "\n",
        "\n",
        "\n",
        "*  Se obtiene el residuo y se agrega al inicio      \n",
        "*  Se divide entre 8\n",
        "*  Se almacenan los residuos en orden inverso para formar un numero octal\n",
        "\n",
        "\n",
        "\n",
        "\n",
        "\n",
        "\n",
        "\n",
        "\n",
        "\n"
      ],
      "metadata": {
        "id": "hS7STgfLd4eS"
      }
    }
  ]
}