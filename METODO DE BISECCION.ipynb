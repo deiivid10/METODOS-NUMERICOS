{
  "nbformat": 4,
  "nbformat_minor": 0,
  "metadata": {
    "colab": {
      "provenance": [],
      "authorship_tag": "ABX9TyPl8zDL/e75IWf4vSnDqH+C",
      "include_colab_link": true
    },
    "kernelspec": {
      "name": "python3",
      "display_name": "Python 3"
    },
    "language_info": {
      "name": "python"
    }
  },
  "cells": [
    {
      "cell_type": "markdown",
      "metadata": {
        "id": "view-in-github",
        "colab_type": "text"
      },
      "source": [
        "<a href=\"https://colab.research.google.com/github/deiivid10/METODOS-NUMERICOS/blob/main/METODO%20DE%20BISECCION.ipynb\" target=\"_parent\"><img src=\"https://colab.research.google.com/assets/colab-badge.svg\" alt=\"Open In Colab\"/></a>"
      ]
    },
    {
      "cell_type": "markdown",
      "source": [
        "<font color= blue>**\"METODO DE BISECCION\"**</front>"
      ],
      "metadata": {
        "id": "kLEdGgoXdvQZ"
      }
    },
    {
      "cell_type": "code",
      "execution_count": null,
      "metadata": {
        "colab": {
          "base_uri": "https://localhost:8080/"
        },
        "id": "YBGvJokyduAr",
        "outputId": "be82992e-eeba-4da7-d0e5-0b859b9bdb41"
      },
      "outputs": [
        {
          "output_type": "stream",
          "name": "stdout",
          "text": [
            "  n           a_n           b_n           p_n         f(p_n)    Error estimado\n",
            "---  ------------  ------------  ------------  -------------  ----------------\n",
            "  1  1.0000000000  2.0000000000  1.5000000000   2.3750000000      0.5000000000\n",
            "  2  1.0000000000  1.5000000000  1.2500000000  -1.7968750000      0.2500000000\n",
            "  3  1.2500000000  1.5000000000  1.3750000000   0.1621093750      0.1250000000\n",
            "  4  1.2500000000  1.3750000000  1.3125000000  -0.8483886719      0.0625000000\n",
            "  5  1.3125000000  1.3750000000  1.3437500000  -0.3509826660      0.0312500000\n",
            "  6  1.3437500000  1.3750000000  1.3593750000  -0.0964088440      0.0156250000\n",
            "  7  1.3593750000  1.3750000000  1.3671875000   0.0323557854      0.0078125000\n",
            "  8  1.3593750000  1.3671875000  1.3632812500  -0.0321499705      0.0039062500\n",
            "  9  1.3632812500  1.3671875000  1.3652343750   0.0000720248      0.0019531250\n",
            " 10  1.3632812500  1.3652343750  1.3642578125  -0.0160466908      0.0009765625\n",
            " 11  1.3642578125  1.3652343750  1.3647460938  -0.0079892628      0.0004882812\n",
            " 12  1.3647460938  1.3652343750  1.3649902344  -0.0039591015      0.0002441406\n",
            " 13  1.3649902344  1.3652343750  1.3651123047  -0.0019436590      0.0001220703\n",
            " 14  1.3651123047  1.3652343750  1.3651733398  -0.0009358473      0.0000610352\n",
            "\n",
            "Raíz aproximada encontrada: 1.3651733398\n"
          ]
        }
      ],
      "source": [
        "import numpy as np\n",
        "from tabulate import tabulate\n",
        "\n",
        "def f(x):\n",
        "#Función dada en el Ejemplo 1: f(x) = x^3 + 4x^2 - 10\n",
        "    return x**3 + 4*x**2 - 10\n",
        "\n",
        "def biseccion(a, b, tol, N0):\n",
        "\n",
        "#Implementación del método de bisección según el Algoritmo que teniamos que hacer del libro\n",
        "\n",
        "#Parámetros:\n",
        "#a -- extremo izquierdo del intervalo inicial\n",
        "#b -- extremo derecho del intervalo inicial\n",
        "#tol -- tolerancia deseada\n",
        "#N0 -- número máximo de iteraciones\n",
        "\n",
        "#Retorna:\n",
        "#Una tabla con los valores de cada iteración y el valor aproximado de la raíz.\n",
        "\n",
        "    if f(a) * f(b) >= 0:\n",
        "        print(\"El método de bisección no es aplicable, f(a) y f(b) deben tener signos opuestos.\")\n",
        "        return None\n",
        "\n",
        "    datos = [] # Lista para almacenar los valores de cada iteración\n",
        "    i = 1 # Contador de iteraciones\n",
        "\n",
        "    while i <= N0:\n",
        "        p = (a + b) / 2 # Punto medio del intervalo\n",
        "        fp = f(p)\n",
        "        error_estimado = abs(b - a) / 2 # Estimación del error\n",
        "\n",
        "# Guardamos los valores en la lista\n",
        "        datos.append([i, a, b, p, fp, error_estimado])\n",
        "\n",
        "# Verificación de la condición de parada\n",
        "        if abs(fp) == 0 or error_estimado < tol:\n",
        "            break # Se encontró una solución aceptable\n",
        "\n",
        "# Redefinición del intervalo\n",
        "        if f(a) * fp < 0:\n",
        "            b = p # La raíz está en [a, p]\n",
        "        else:\n",
        "            a = p # La raíz está en [p, b]\n",
        "\n",
        "        i += 1 # Incremento del contador\n",
        "\n",
        "# Imprimir la tabla de resultados\n",
        "    print(tabulate(datos, headers=[\"n\", \"a_n\", \"b_n\", \"p_n\", \"f(p_n)\", \"Error estimado\"], floatfmt=\".10f\"))\n",
        "\n",
        "# Devolver el último valor de p como la aproximación final de la raíz\n",
        "    return p\n",
        "\n",
        "# Parámetros iniciales\n",
        "a = 1.0\n",
        "b = 2.0\n",
        "tol = 1e-4\n",
        "N0 = 20\n",
        "\n",
        "# Ejecutar el método de bisección\n",
        "raiz_aproximada = biseccion(a, b, tol, N0)\n",
        "\n",
        "# Mostrar el resultado final\n",
        "if raiz_aproximada is not None:\n",
        "    print(f\"\\nRaíz aproximada encontrada: {raiz_aproximada:.10f}\")"
      ]
    }
  ]
}