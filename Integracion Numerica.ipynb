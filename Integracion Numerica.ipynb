{
  "nbformat": 4,
  "nbformat_minor": 0,
  "metadata": {
    "colab": {
      "provenance": [],
      "authorship_tag": "ABX9TyNFkS1YO5Da1oAkQ4dtlYxQ",
      "include_colab_link": true
    },
    "kernelspec": {
      "name": "python3",
      "display_name": "Python 3"
    },
    "language_info": {
      "name": "python"
    }
  },
  "cells": [
    {
      "cell_type": "markdown",
      "metadata": {
        "id": "view-in-github",
        "colab_type": "text"
      },
      "source": [
        "<a href=\"https://colab.research.google.com/github/deiivid10/METODOS-NUMERICOS/blob/main/Integracion%20Numerica.ipynb\" target=\"_parent\"><img src=\"https://colab.research.google.com/assets/colab-badge.svg\" alt=\"Open In Colab\"/></a>"
      ]
    },
    {
      "cell_type": "code",
      "source": [
        "import sympy as sp\n",
        "# Importar la biblioteca sympy para realizar operaciones simbólicas\n",
        "\n",
        "# Definir la variable simbólica\n",
        "x = sp.Symbol('x')\n",
        "\n",
        "# Definir la función simbólica a integrar\n",
        "f = sp.sin(x)\n",
        "\n",
        "# Regla del trapecio para n=1 (usa los extremos del intervalo)\n",
        "def regla_trapezoidal(f, a, b):\n",
        "    h = b - a\n",
        "    return (h / 2) * (f.subs(x, a) + f.subs(x, b))\n",
        "\n",
        "# Regla de Simpson 1/3 para n=2 (toma tres puntos)\n",
        "def regla_simpson(f, a, b):\n",
        "    h = (b - a) / 2\n",
        "    return (h / 3) * (f.subs(x, a) + 4*f.subs(x, a + h) + f.subs(x, b))\n",
        "\n",
        "# Regla de Simpson 3/8 para n=3 (toma cuatro puntos)\n",
        "def regla_tres_octavos(f, a, b):\n",
        "    h = (b - a) / 3\n",
        "    return (3*h / 8) * (f.subs(x, a) + 3*f.subs(x, a + h) + 3*f.subs(x, a + 2*h) + f.subs(x, b))\n",
        "\n",
        "# Fórmula de Newton-Cotes cerrada para n=4 (cinco puntos incluyendo extremos)\n",
        "def newton_cotes_cerrada_n4(f, a, b):\n",
        "    h = (b - a) / 4\n",
        "    puntos = [a + i*h for i in range(5)]  # Generar los 5 puntos del intervalo\n",
        "    coef = [7, 32, 12, 32, 7]  # Coeficientes correspondientes a la fórmula de Newton-Cotes de grado 4\n",
        "    suma = sum(c * f.subs(x, xi) for c, xi in zip(coef, puntos))  # Sumar los valores multiplicados por sus coeficientes\n",
        "    return (2*h / 45) * suma\n",
        "\n",
        "# Newton-Cotes abierta n=0 (un punto en el centro)\n",
        "def newton_cotes_abierta_n0(f, a, b):\n",
        "    h = (b - a) / 2\n",
        "    return (b - a) * f.subs(x, a + h)\n",
        "\n",
        "# Newton-Cotes abierta n=1 (dos puntos intermedios)\n",
        "def newton_cotes_abierta_n1(f, a, b):\n",
        "    h = (b - a) / 3\n",
        "    x1 = a + h\n",
        "    x2 = a + 2*h\n",
        "    return (3*h / 2) * (f.subs(x, x1) + f.subs(x, x2))\n",
        "\n",
        "# Newton-Cotes abierta n=2 (tres puntos intermedios)\n",
        "def newton_cotes_abierta_n2(f, a, b):\n",
        "    h = (b - a) / 4\n",
        "    puntos = [a + h, a + 2*h, a + 3*h]  # Corregido para que los puntos estén dentro del intervalo\n",
        "    coef = [2, -1, 2]  # Coeficientes para la fórmula\n",
        "    return (4*h / 3) * sum(c*f.subs(x, xi) for c, xi in zip(coef, puntos))\n",
        "\n",
        "# Newton-Cotes abierta n=3 (cuatro puntos intermedios)\n",
        "def newton_cotes_abierta_n3(f, a, b):\n",
        "    h = (b - a) / 5\n",
        "    puntos = [a + i*h for i in range(1, 5)]  # Puntos internos\n",
        "    coef = [11, 1, 1, 11]  # Coeficientes correspondientes\n",
        "    return (5*h / 24) * sum(c*f.subs(x, xi) for c, xi in zip(coef, puntos))\n",
        "\n",
        "# Definir el intervalo de integración\n",
        "a = 0\n",
        "b = 3.1416 / 4  # π/4\n",
        "\n",
        "# Mostrar los resultados con cada método. evalf() evalúa numéricamente la expresión simbólica\n",
        "print(\"CERRADAS: \")\n",
        "print(\"Trapezoidal:\", regla_trapezoidal(f, a, b).evalf())\n",
        "print(\"Simpson 1/3:\", regla_simpson(f, a, b).evalf())\n",
        "print(\"Simpson 3/8:\", regla_tres_octavos(f, a, b).evalf())\n",
        "print(\"Newton-Cotes cerrada n=4:\", newton_cotes_cerrada_n4(f, a, b).evalf())\n",
        "\n",
        "print(\"\\nABIERTAS:\")\n",
        "print(\"Abierta n=0:\", newton_cotes_abierta_n0(f, a, b).evalf())\n",
        "print(\"Abierta n=1:\", newton_cotes_abierta_n1(f, a, b).evalf())\n",
        "print(\"Abierta n=2:\", newton_cotes_abierta_n2(f, a, b).evalf())\n",
        "print(\"Abierta n=3:\", newton_cotes_abierta_n3(f, a, b).evalf())\n"
      ],
      "metadata": {
        "colab": {
          "base_uri": "https://localhost:8080/"
        },
        "id": "eC1bZ7EcSSlh",
        "outputId": "9bb0b684-30f4-4127-9c7b-8f38faf714cd"
      },
      "execution_count": 8,
      "outputs": [
        {
          "output_type": "stream",
          "name": "stdout",
          "text": [
            "CERRADAS: \n",
            "Trapezoidal: 0.277681342960815\n",
            "Simpson 1/3: 0.292933937061992\n",
            "Simpson 3/8: 0.292912001466899\n",
            "Newton-Cotes cerrada n=4: 0.292894481235902\n",
            "\n",
            "ABIERTAS:\n",
            "Abierta n=0: 0.300560234112581\n",
            "Abierta n=1: 0.297988887635593\n",
            "Abierta n=2: 0.292859957388073\n",
            "Abierta n=3: 0.292870526478417\n"
          ]
        }
      ]
    }
  ]
}