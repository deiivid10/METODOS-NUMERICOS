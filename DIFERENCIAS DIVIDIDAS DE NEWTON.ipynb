{
  "nbformat": 4,
  "nbformat_minor": 0,
  "metadata": {
    "colab": {
      "provenance": [],
      "authorship_tag": "ABX9TyOEIFqu+ehYhpyKmyNDgEcs",
      "include_colab_link": true
    },
    "kernelspec": {
      "name": "python3",
      "display_name": "Python 3"
    },
    "language_info": {
      "name": "python"
    }
  },
  "cells": [
    {
      "cell_type": "markdown",
      "metadata": {
        "id": "view-in-github",
        "colab_type": "text"
      },
      "source": [
        "<a href=\"https://colab.research.google.com/github/deiivid10/METODOS-NUMERICOS/blob/main/DIFERENCIAS%20DIVIDIDAS%20DE%20NEWTON.ipynb\" target=\"_parent\"><img src=\"https://colab.research.google.com/assets/colab-badge.svg\" alt=\"Open In Colab\"/></a>"
      ]
    },
    {
      "cell_type": "markdown",
      "source": [
        "# ALGORITMO 3.2\n",
        "**DIFERENCIAS DIVIDIDAS DE NEWTON**\n",
        "\n",
        "\n"
      ],
      "metadata": {
        "id": "gsdABB8htjTC"
      }
    },
    {
      "cell_type": "code",
      "source": [
        "import pandas as pd\n",
        "\n",
        "xi = [1.0, 1.3, 1.6, 1.9, 2.2]\n",
        "fxi = [0.7651977, 0.6200860, 0.4554022, 0.2818186, 0.1103623]\n",
        "\n",
        "# Algoritmo de Diferencias Divididas de Newton\n",
        "def diferencias_divididas_newton(xi, fxi):\n",
        "    n = len(xi)\n",
        "    tabla = [[0 for _ in range(n)] for _ in range(n)]\n",
        "\n",
        "    # Primera columna: f(xi)\n",
        "    for i in range(n):\n",
        "        tabla[i][0] = fxi[i]\n",
        "\n",
        "    # Rellenar la tabla según la fórmula\n",
        "    for j in range(1, n):\n",
        "        for i in range(n - j):\n",
        "            tabla[i][j] = (tabla[i+1][j-1] - tabla[i][j-1]) / (xi[i+j] - xi[i])\n",
        "\n",
        "    # Convertir a DataFrame\n",
        "    columnas = ['f[xi]'] + [f'f[x{i-j},{i}]' for j in range(1, n)]\n",
        "    df = pd.DataFrame(tabla)\n",
        "    df.columns = columnas\n",
        "    df.insert(0, 'xi', xi)\n",
        "\n",
        "    return df.round(7)\n",
        "\n",
        "# Ejecutar y mostrar\n",
        "df_newton = diferencias_divididas_newton(xi, fxi)\n",
        "print(\"Tabla de Diferencias Divididas de Newton:\\n\")\n",
        "print(df_newton)\n"
      ],
      "metadata": {
        "colab": {
          "base_uri": "https://localhost:8080/"
        },
        "id": "k5eEDyRYxcCy",
        "outputId": "bdd3c820-9ebe-4606-d1c3-d2813f47cbe7"
      },
      "execution_count": 1,
      "outputs": [
        {
          "output_type": "stream",
          "name": "stdout",
          "text": [
            "Tabla de Diferencias Divididas de Newton:\n",
            "\n",
            "    xi     f[xi]  f[x-1,0]  f[x-2,0]  f[x-3,0]  f[x-4,0]\n",
            "0  1.0  0.765198 -0.483706 -0.108734  0.065878  0.001825\n",
            "1  1.3  0.620086 -0.548946 -0.049443  0.068069  0.000000\n",
            "2  1.6  0.455402 -0.578612  0.011818  0.000000  0.000000\n",
            "3  1.9  0.281819 -0.571521  0.000000  0.000000  0.000000\n",
            "4  2.2  0.110362  0.000000  0.000000  0.000000  0.000000\n"
          ]
        }
      ]
    }
  ]
}