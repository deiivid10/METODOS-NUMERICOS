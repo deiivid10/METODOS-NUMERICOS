{
  "nbformat": 4,
  "nbformat_minor": 0,
  "metadata": {
    "colab": {
      "provenance": [],
      "authorship_tag": "ABX9TyOLYJzUhD2oE90IoVcyImA+",
      "include_colab_link": true
    },
    "kernelspec": {
      "name": "python3",
      "display_name": "Python 3"
    },
    "language_info": {
      "name": "python"
    }
  },
  "cells": [
    {
      "cell_type": "markdown",
      "metadata": {
        "id": "view-in-github",
        "colab_type": "text"
      },
      "source": [
        "<a href=\"https://colab.research.google.com/github/deiivid10/METODOS-NUMERICOS/blob/main/DIFERENCIA%20NUMERICA.ipynb\" target=\"_parent\"><img src=\"https://colab.research.google.com/assets/colab-badge.svg\" alt=\"Open In Colab\"/></a>"
      ]
    },
    {
      "cell_type": "code",
      "execution_count": null,
      "metadata": {
        "colab": {
          "base_uri": "https://localhost:8080/"
        },
        "id": "T2nx9O0S_bYI",
        "outputId": "0126be2e-8f86-4a5a-fa2e-d2bd50c1edc3"
      },
      "outputs": [
        {
          "output_type": "stream",
          "name": "stdout",
          "text": [
            "Valor exacto de f'(2.0) = 22.1671682968\n",
            "Valor exacto de f''(2.0) = 29.5562243957\n",
            "\n",
            "+-----------------------------------+--------------+----------------+--------------------+\n",
            "| Método                            | Aproximación | Error Absoluto | Error Relativo (%) |\n",
            "+-----------------------------------+--------------+----------------+--------------------+\n",
            "| Extremo 3 puntos                  |  22.032305   |  1.348634e-01  |       0.6084       |\n",
            "| Punto medio 3 puntos              |  22.228787   |  6.161858e-02  |       0.2780       |\n",
            "| Punto medio 5 puntos              |  22.166996   |  1.726754e-04  |       0.0008       |\n",
            "| Extremo 5 puntos                  |  66.258620   |  4.409145e+01  |      198.9043      |\n",
            "| Segunda derivada (central 3 ptos) |  29.593186   |  3.696170e-02  |       0.1251       |\n",
            "+-----------------------------------+--------------+----------------+--------------------+\n"
          ]
        }
      ],
      "source": [
        "import sympy as sp\n",
        "from prettytable import PrettyTable\n",
        "\n",
        "# Definir variables simbólicas\n",
        "x = sp.Symbol('x')\n",
        "f = x * sp.exp(x)\n",
        "f_prime_exact = sp.diff(f, x)\n",
        "f_double_prime_exact = sp.diff(f_prime_exact, x)\n",
        "\n",
        "# Parámetros\n",
        "x0 = 2.0\n",
        "h = 0.1\n",
        "\n",
        "# Tabla de valores f(x)\n",
        "puntos = [x0 - 2*h, x0 - h, x0, x0 + h, x0 + 2*h, x0 + 3*h, x0 + 4*h]\n",
        "tabla = {xi: float(f.subs(x, xi).evalf()) for xi in puntos}\n",
        "\n",
        "# Nombres simplificados\n",
        "fm2 = tabla[x0 - 2*h]\n",
        "fm1 = tabla[x0 - h]\n",
        "f0  = tabla[x0]\n",
        "fp1 = tabla[x0 + h]\n",
        "fp2 = tabla[x0 + 2*h]\n",
        "fp3 = tabla.get(x0 + 3*h)\n",
        "fp4 = tabla.get(x0 + 4*h)\n",
        "\n",
        "# Fórmulas del Burden\n",
        "D1_extremo_3pt = (-3*f0 + 4*fp1 - fp2) / (2*h)\n",
        "D1_central_3pt = (fp1 - fm1) / (2*h)\n",
        "D1_central_5pt = (fm2 - 8*fm1 + 8*fp1 - fp2) / (12*h)\n",
        "D1_extremo_5pt = (-25*f0 + 48*fp1 - 36*fp2 + 16*fp3 - fp4) / (12*h) if fp3 and fp4 else None\n",
        "D2_central = (fp1 - 2*f0 + fm1) / h**2\n",
        "\n",
        "# Valores exactos\n",
        "f1_exact = float(f_prime_exact.subs(x, x0).evalf())\n",
        "f2_exact = float(f_double_prime_exact.subs(x, x0).evalf())\n",
        "\n",
        "# Función de error\n",
        "def calcular_errores(aprox, real):\n",
        "    err_abs = abs(aprox - real)\n",
        "    err_rel = err_abs / abs(real) * 100\n",
        "    return err_abs, err_rel\n",
        "\n",
        "# Guardar resultados\n",
        "resultados = {\n",
        "    \"Extremo 3 puntos\": D1_extremo_3pt,\n",
        "    \"Punto medio 3 puntos\": D1_central_3pt,\n",
        "    \"Punto medio 5 puntos\": D1_central_5pt,\n",
        "    \"Extremo 5 puntos\": D1_extremo_5pt,\n",
        "    \"Segunda derivada (central 3 ptos)\": D2_central\n",
        "}\n",
        "\n",
        "# Calcular errores\n",
        "errores = {}\n",
        "for nombre, valor in resultados.items():\n",
        "    if valor is not None:\n",
        "        ref = f2_exact if \"Segunda\" in nombre else f1_exact\n",
        "        err_abs, err_rel = calcular_errores(valor, ref)\n",
        "        errores[nombre] = (valor, err_abs, err_rel)\n",
        "    else:\n",
        "        errores[nombre] = (None, None, None)\n",
        "\n",
        "# Mostrar tabla\n",
        "tabla = PrettyTable()\n",
        "tabla.field_names = [\"Método\", \"Aproximación\", \"Error Absoluto\", \"Error Relativo (%)\"]\n",
        "tabla.align[\"Método\"] = \"l\"\n",
        "\n",
        "for metodo, (aprox, err_abs, err_rel) in errores.items():\n",
        "    if aprox is not None:\n",
        "        tabla.add_row([metodo, f\"{aprox:.6f}\", f\"{err_abs:.6e}\", f\"{err_rel:.4f}\"])\n",
        "    else:\n",
        "        tabla.add_row([metodo, \"N/A\", \"N/A\", \"N/A\"])\n",
        "\n",
        "print(f\"Valor exacto de f'(2.0) = {f1_exact:.10f}\")\n",
        "print(f\"Valor exacto de f''(2.0) = {f2_exact:.10f}\\n\")\n",
        "print(tabla)\n"
      ]
    }
  ]
}