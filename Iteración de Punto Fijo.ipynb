{
  "nbformat": 4,
  "nbformat_minor": 0,
  "metadata": {
    "colab": {
      "provenance": [],
      "authorship_tag": "ABX9TyNvr+TaVehf8cXC5hSG9Kqt",
      "include_colab_link": true
    },
    "kernelspec": {
      "name": "python3",
      "display_name": "Python 3"
    },
    "language_info": {
      "name": "python"
    }
  },
  "cells": [
    {
      "cell_type": "markdown",
      "metadata": {
        "id": "view-in-github",
        "colab_type": "text"
      },
      "source": [
        "<a href=\"https://colab.research.google.com/github/deiivid10/METODOS-NUMERICOS/blob/main/Iteraci%C3%B3n%20de%20Punto%20Fijo.ipynb\" target=\"_parent\"><img src=\"https://colab.research.google.com/assets/colab-badge.svg\" alt=\"Open In Colab\"/></a>"
      ]
    },
    {
      "cell_type": "code",
      "source": [
        "import numpy as np\n",
        "from tabulate import tabulate\n",
        "\n",
        "def fixed_point_iteration(g, p0, TOL, N0):\n",
        "\n",
        "    table = []\n",
        "    i = 0\n",
        "\n",
        "    while i <= N0:\n",
        "        p = g(p0)\n",
        "        error = abs(p - p0)\n",
        "        table.append([i, p0, p, error])\n",
        "\n",
        "        if error < TOL:\n",
        "            print(\"\\nEl procedimiento fue exitoso. Resultado:\")\n",
        "            print(tabulate(table, headers=[\"Iteración\", \"p0\", \"p\", \"Error\"], floatfmt=\".6f\"))\n",
        "            print(f\"\\nSolución: p = {p:.6f}\")\n",
        "            return\n",
        "\n",
        "        p0 = p\n",
        "        i += 1\n",
        "\n",
        "    print(\"\\nEl método falló después de\", N0, \"iteraciones.\")\n",
        "    print(tabulate(table, headers=[\"Iteración\", \"p0\", \"p\", \"Error\"], floatfmt=\".6f\"))\n",
        "    return\n",
        "\n",
        "\n",
        "def g4(x):\n",
        "    return np.sqrt(10 / (4 + x))\n",
        "\n",
        "p0 = 1.5\n",
        "TOL = 1e-5\n",
        "N0 = 20\n",
        "\n",
        "# Ejecutamos la iteración de punto fijo\n",
        "fixed_point_iteration(g4, p0, TOL, N0)\n",
        "\n",
        "\n",
        "\n"
      ],
      "metadata": {
        "colab": {
          "base_uri": "https://localhost:8080/"
        },
        "id": "seuIXFmBUgRX",
        "outputId": "2d9c058c-00f3-4614-b302-d4ff1a354cff"
      },
      "execution_count": 9,
      "outputs": [
        {
          "output_type": "stream",
          "name": "stdout",
          "text": [
            "\n",
            "El procedimiento fue exitoso. Resultado:\n",
            "  Iteración        p0         p     Error\n",
            "-----------  --------  --------  --------\n",
            "          0  1.500000  1.348400  0.151600\n",
            "          1  1.348400  1.367376  0.018977\n",
            "          2  1.367376  1.364957  0.002419\n",
            "          3  1.364957  1.365265  0.000308\n",
            "          4  1.365265  1.365226  0.000039\n",
            "          5  1.365226  1.365231  0.000005\n",
            "\n",
            "Solución: p = 1.365231\n"
          ]
        }
      ]
    },
    {
      "cell_type": "markdown",
      "source": [
        " #  Implementa el algoritmo de Iteración de Punto Fijo\n",
        "\n",
        "\n",
        "    Parámetros:\n",
        "    g   -- Función de iteración g(x)\n",
        "    p0  -- Aproximación inicial\n",
        "    TOL -- Tolerancia para el error\n",
        "    N0  -- Número máximo de iteraciones\n",
        "    \n",
        "Salida:\n",
        "Muestra una tabla con las iteraciones, los valores de p y el error estimado.\n",
        "\n",
        "table = [ ] **# Para almacenar los valores de la tabla**\n",
        "\n",
        "i = 0  **# Contador de iteraciones (comienza en 0)⬆**\n",
        "\n",
        " p = g(p0)  **# Calculamos g(p0)**\n",
        "\n",
        "error = abs(p - p0)  **# Calculamos el error estimado**\n",
        "\n",
        "table.append([i, p0, p, error])  **# Guardamos los valores en la tabla**\n",
        "\n",
        "p0 = p  **# para actualizar p0**\n",
        "\n",
        "i += 1  **# Incrementamos el contador**\n",
        "\n",
        "\n",
        "def g4(x):\n",
        "return np.sqrt(10 / (4 + x)) **# Definimos la función g4(x)**\n",
        "\n",
        "# Parámetros iniciales\n",
        "p0 = 1.5  **# Aproximación inicial**\n",
        "\n",
        "TOL = 1e-5 **# Tolerancia**\n",
        "\n",
        "N0 = 20    **# Número máximo de iteraciones**\n",
        "\n",
        "# Para ejecutar la iteración de punto fijo\n",
        "**fixed_point_iteration(g4, p0, TOL, N0)**\n",
        "    "
      ],
      "metadata": {
        "id": "kJS2gjNTZzgg"
      }
    }
  ]
}