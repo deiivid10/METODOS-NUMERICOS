{
  "nbformat": 4,
  "nbformat_minor": 0,
  "metadata": {
    "colab": {
      "provenance": [],
      "authorship_tag": "ABX9TyNxsOaWO0SRcjEkguOf+mw/",
      "include_colab_link": true
    },
    "kernelspec": {
      "name": "python3",
      "display_name": "Python 3"
    },
    "language_info": {
      "name": "python"
    }
  },
  "cells": [
    {
      "cell_type": "markdown",
      "metadata": {
        "id": "view-in-github",
        "colab_type": "text"
      },
      "source": [
        "<a href=\"https://colab.research.google.com/github/deiivid10/METODOS-NUMERICOS/blob/main/PosicionFALSA.ipynb\" target=\"_parent\"><img src=\"https://colab.research.google.com/assets/colab-badge.svg\" alt=\"Open In Colab\"/></a>"
      ]
    },
    {
      "cell_type": "code",
      "source": [
        "def f(x):\n",
        "    return x - math.cos(x)\n"
      ],
      "metadata": {
        "id": "HMNWrqKIGfAf"
      },
      "execution_count": 53,
      "outputs": []
    },
    {
      "cell_type": "markdown",
      "source": [
        "# Definir la función f(x) = x - cos(x)  ⬆\n"
      ],
      "metadata": {
        "id": "vMyHKxBYGjSG"
      }
    },
    {
      "cell_type": "code",
      "source": [
        "\n",
        "p0 = 0.5\n",
        "p1 = math.pi / 4\n",
        "tol = 1e-6\n",
        "N0 = 10\n",
        "\n",
        "\n",
        "falsa_posicion(f, p0, p1, tol, N0)"
      ],
      "metadata": {
        "id": "92Hvny3KGnrW"
      },
      "execution_count": 54,
      "outputs": []
    },
    {
      "cell_type": "markdown",
      "source": [
        "# Parámetros iniciales ⬆\n",
        "# Llamada a la función ⬆\n"
      ],
      "metadata": {
        "id": "eCa10oUiGume"
      }
    },
    {
      "cell_type": "code",
      "execution_count": 55,
      "metadata": {
        "id": "UmJGdFKM3LSA"
      },
      "outputs": [],
      "source": [
        "import math\n",
        "from tabulate import tabulate\n",
        "\n",
        "def falsa_posicion(f, p0, p1, tol, N0):\n",
        "    q0 = f(p0)\n",
        "    q1 = f(p1)\n",
        "    if q0 * q1 > 0:\n",
        "\n",
        "        print(\"Los valores iniciales no son adecuados, f(p0) y f(p1) deben tener signos opuestos.\")\n",
        "        return"
      ]
    },
    {
      "cell_type": "markdown",
      "source": [
        " # Implementación del método de posición falsa para encontrar una raíz de la función\n",
        "\n",
        "    Parámetros:\n",
        "    f    : función a evaluar\n",
        "    p0   : primer punto inicial\n",
        "    p1   : segundo punto inicial\n",
        "    tol  : tolerancia para el error\n",
        "    N0   : número máximo de iteraciones\n",
        "\n",
        "Salida:\n",
        "Imprime una tabla con los valores en cada iteración, incluyendo el error estimado.\n",
        "  \n",
        "# Verificamos que los puntos iniciales sean válidos (f(p0) y f(p1) deben tener signos opuestos) ⬆"
      ],
      "metadata": {
        "id": "ZwiYDUKcAQuV"
      }
    },
    {
      "cell_type": "code",
      "source": [
        "resultados = []\n",
        "\n",
        "for i in range(1, N0 + 1):\n",
        "    p = p1 - q1 * (p1 - p0) / (q1 - q0)\n",
        "    q = f(p)\n",
        "    error = abs(p - p1)\n",
        "    resultados.append([i, p, q, error])\n",
        "    if error < tol:\n",
        "        break\n",
        "    if q * q1 < 0:\n",
        "        p0, q0 = p1, q1\n",
        "\n",
        "    p1, q1 = p, q"
      ],
      "metadata": {
        "id": "61S66XqSBRjQ"
      },
      "execution_count": 56,
      "outputs": []
    },
    {
      "cell_type": "markdown",
      "source": [
        "  # Lista para almacenar los resultados en cada iteración ⬆\n",
        "  # Calcular p utilizando la fórmula de la posición falsa ⬆\n",
        "  # Calcular error estimado ⬆\n",
        "  # Guardar valores en la lista ⬆\n",
        "  # Comprobar criterio de parada ⬆\n",
        "  # Actualizar valores para la siguiente iteración ⬆\n",
        "\n",
        "\n"
      ],
      "metadata": {
        "id": "YvnbO4e8Bfus"
      }
    },
    {
      "cell_type": "code",
      "source": [
        "    print(tabulate(resultados, headers=[\"Iteración\", \"p_n\", \"f(p_n)\", \"Error\"], tablefmt=\"grid\"))\n"
      ],
      "metadata": {
        "colab": {
          "base_uri": "https://localhost:8080/"
        },
        "id": "kHwf1kJZEp7K",
        "outputId": "893db819-60d9-410d-da03-4d2d9ece7b1d"
      },
      "execution_count": 57,
      "outputs": [
        {
          "output_type": "stream",
          "name": "stdout",
          "text": [
            "+-------------+----------+-----------+-------------+\n",
            "|   Iteración |      p_n |    f(p_n) |       Error |\n",
            "+=============+==========+===========+=============+\n",
            "|           1 | 0.785397 | 0.0782886 | 1.64357e-06 |\n",
            "+-------------+----------+-----------+-------------+\n",
            "|           2 | 0.785398 | 0.0782914 | 1.64356e-06 |\n",
            "+-------------+----------+-----------+-------------+\n",
            "|           3 | 0.785398 | 0.0782914 | 9.46543e-12 |\n",
            "+-------------+----------+-----------+-------------+\n"
          ]
        }
      ]
    },
    {
      "cell_type": "markdown",
      "source": [
        "# Imprimir tabla de resultados  ⬆\n"
      ],
      "metadata": {
        "id": "YwDu0NHTFrfU"
      }
    }
  ]
}